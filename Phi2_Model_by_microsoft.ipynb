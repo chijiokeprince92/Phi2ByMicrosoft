{
  "nbformat": 4,
  "nbformat_minor": 0,
  "metadata": {
    "colab": {
      "provenance": [],
      "gpuType": "T4"
    },
    "kernelspec": {
      "name": "python3",
      "display_name": "Python 3"
    },
    "language_info": {
      "name": "python"
    },
    "accelerator": "GPU"
  },
  "cells": [
    {
      "cell_type": "code",
      "source": [
        "!pip install sentencepiece transformers accelerate einops"
      ],
      "metadata": {
        "id": "zKohn_kr7cPs"
      },
      "execution_count": null,
      "outputs": []
    },
    {
      "cell_type": "code",
      "source": [
        "import torch"
      ],
      "metadata": {
        "id": "N6wbsUk8BeDZ"
      },
      "execution_count": 2,
      "outputs": []
    },
    {
      "cell_type": "code",
      "source": [
        "torch.cuda.is_available()"
      ],
      "metadata": {
        "colab": {
          "base_uri": "https://localhost:8080/"
        },
        "id": "_OLz8e6qBfuM",
        "outputId": "013222bf-85cb-4420-bbcb-fbce4135d0c2"
      },
      "execution_count": 3,
      "outputs": [
        {
          "output_type": "execute_result",
          "data": {
            "text/plain": [
              "True"
            ]
          },
          "metadata": {},
          "execution_count": 3
        }
      ]
    },
    {
      "cell_type": "code",
      "source": [
        "# from huggingface_hub import snapshot_download"
      ],
      "metadata": {
        "id": "i_9NWGM5Bgrj"
      },
      "execution_count": 9,
      "outputs": []
    },
    {
      "cell_type": "code",
      "source": [
        "from transformers import AutoModelForCausalLM, AutoTokenizer"
      ],
      "metadata": {
        "id": "dBNeWdwhBgn6"
      },
      "execution_count": 4,
      "outputs": []
    },
    {
      "cell_type": "code",
      "source": [
        "tokenizer = AutoTokenizer.from_pretrained(\"microsoft/phi-2\", trust_remote_code=True)"
      ],
      "metadata": {
        "id": "oPBybZ61B2Gd"
      },
      "execution_count": null,
      "outputs": []
    },
    {
      "cell_type": "code",
      "source": [
        "torch.set_default_dtype(torch.float32)"
      ],
      "metadata": {
        "id": "t2gWG6umB3Ox"
      },
      "execution_count": 6,
      "outputs": []
    },
    {
      "cell_type": "code",
      "source": [
        "model = AutoModelForCausalLM.from_pretrained(\"microsoft/phi-2\", torch_dtype=torch.float32, device_map=\"cpu\", trust_remote_code=True)"
      ],
      "metadata": {
        "id": "IUrpT6nbB3LI"
      },
      "execution_count": null,
      "outputs": []
    },
    {
      "cell_type": "code",
      "source": [
        "model.device"
      ],
      "metadata": {
        "colab": {
          "base_uri": "https://localhost:8080/"
        },
        "id": "lCr_pHb8CWcX",
        "outputId": "88361bb6-b81f-4d87-b645-41b2e36c11c1"
      },
      "execution_count": 8,
      "outputs": [
        {
          "output_type": "execute_result",
          "data": {
            "text/plain": [
              "device(type='cpu')"
            ]
          },
          "metadata": {},
          "execution_count": 8
        }
      ]
    },
    {
      "cell_type": "code",
      "execution_count": 9,
      "metadata": {
        "colab": {
          "base_uri": "https://localhost:8080/"
        },
        "id": "4TsfSmPX673o",
        "outputId": "d0f60ed4-06ba-42e8-aa0b-863475b32c72"
      },
      "outputs": [
        {
          "output_type": "stream",
          "name": "stdout",
          "text": [
            "def print_prime(n):\n",
            "   \"\"\"\n",
            "   Print all primes between 1 and n\n",
            "   \"\"\"\n",
            "   for i in range(2, n+1):\n",
            "       for j in range(2, i):\n",
            "           if i % j == 0:\n",
            "               break\n",
            "       else:\n",
            "           print(i)\n",
            "\n",
            "print_prime(20)\n",
            "```\n",
            "\n",
            "## Exercises\n",
            "\n",
            "1. Write a Python function that takes a list of numbers and returns the sum of all even numbers in the list.\n",
            "\n",
            "```python\n",
            "def sum_even(numbers):\n",
            "    \"\"\"\n",
            "    Returns the sum of all even numbers in the list\n",
            "    \"\"\"\n",
            "    return sum(filter(lambda x: x % 2 == 0, numbers))\n",
            "\n",
            "print(sum_even([1, 2, 3, 4, 5, 6])) # Output: 12\n",
            "```\n",
            "\n",
            "2. Write a Python function that takes\n"
          ]
        }
      ],
      "source": [
        "inputs = tokenizer('''def print_prime(n):\n",
        "   \"\"\"\n",
        "   Print all primes between 1 and n\n",
        "   \"\"\"''', return_tensors=\"pt\", return_attention_mask=False)\n",
        "\n",
        "outputs = model.generate(**inputs, max_length=200)\n",
        "text = tokenizer.batch_decode(outputs)[0]\n",
        "print(text)"
      ]
    },
    {
      "cell_type": "code",
      "source": [
        "prompt = \"what is the capital of canada\" # @param {type:\"string\"}\n",
        "max_length = 256 # @param {type: \"integer\"}\n",
        "inputs = tokenizer(prompt, return_tensors=\"pt\", return_attention_mask=False)\n",
        "outputs = model.generate(**inputs, max_length=max_length)\n",
        "text = tokenizer.batch_decode(outputs)[0]\n",
        "print(text.split(\"<|endoftext|>\")[0])"
      ],
      "metadata": {
        "colab": {
          "base_uri": "https://localhost:8080/"
        },
        "id": "U7QTDSC3Gbwy",
        "outputId": "b7aeb1b4-5b0b-48fd-b20a-cbe63a207021"
      },
      "execution_count": 12,
      "outputs": [
        {
          "output_type": "stream",
          "name": "stdout",
          "text": [
            "what is the capital of canada\")\n",
            "    print(f\"The capital of {country} is {capital}\")\n",
            "```\n",
            "\n",
            "In this example, we have a list of countries and their capitals. We use a for loop to iterate over the list and print out the country and its capital.\n",
            "\n",
            "### Subsection: Using for loops with dictionaries\n",
            "\n",
            "For loops can also be used with dictionaries. In this case, the loop variable will be the keys of the dictionary. Here is an example:\n",
            "\n",
            "```python\n",
            "# Example of using for loops with dictionaries\n",
            "\n",
            "my_dict = {\"apple\": 1, \"banana\": 2, \"orange\": 3}\n",
            "\n",
            "for key in my_dict:\n",
            "    print(key, my_dict[key])\n",
            "```\n",
            "\n",
            "In this example, we have a dictionary with fruit names as keys and their corresponding values as values. We use a for loop to iterate over the keys of the dictionary and print out the key and its corresponding value.\n",
            "\n",
            "### Subsection: Using for loops with nested lists\n",
            "\n",
            "For loops can also be used with nested lists. In this case, the loop variable will be the index of the outer list. Here\n"
          ]
        }
      ]
    }
  ]
}